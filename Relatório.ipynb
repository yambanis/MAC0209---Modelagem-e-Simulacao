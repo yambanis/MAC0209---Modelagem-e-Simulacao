{
 "cells": [
  {
   "cell_type": "markdown",
   "metadata": {},
   "source": [
    "# EP1 - MAC0209"
   ]
  },
  {
   "cell_type": "markdown",
   "metadata": {},
   "source": [
    "* Bruna Thalenberg - 8569211\n",
    "* Eduardo Freire - \n",
    "* Erica Cope -\n",
    "* Guilherme Yambanis -\n",
    "* Nathan Benedetto Proença -"
   ]
  },
  {
   "cell_type": "markdown",
   "metadata": {},
   "source": [
    "## Introdução\n",
    "\n",
    "Briefly summarize the nature of the physical system, the basic numerical method\n",
    "or algorithm, and the interesting or relevant questions."
   ]
  },
  {
   "cell_type": "markdown",
   "metadata": {},
   "source": [
    "## Métodos\n",
    "\n",
    "Describe the algorithm and how it is implemented in the program. In some cases this\n",
    "explanation can be given in the program itself. Give a typical listing of your program.\n",
    "Simple modifications of the program can be included in an appendix if necessary. The\n",
    "program should include your name and date and be annotated in a way that is as selfexplanatory\n",
    "as possible. Be sure to discuss any important features of your program."
   ]
  },
  {
   "cell_type": "markdown",
   "metadata": {},
   "source": [
    "## Verificação do programa\n",
    "\n",
    "Verification of program. Confirm that your program is not incorrect by considering special cases\n",
    "and by giving at least one comparison to a hand calculation or known result."
   ]
  },
  {
   "cell_type": "markdown",
   "metadata": {},
   "source": [
    "## Dados\n",
    "\n",
    "Show the results of some typical runs in graphical or tabular form. Additional runs can\n",
    "be included in an appendix. All runs should be labeled, and all tables and figures must\n",
    "be referred to in the body of the text. Each figure and table should have a caption with\n",
    "complete information, for example, the value of the time step."
   ]
  },
  {
   "cell_type": "markdown",
   "metadata": {},
   "source": [
    "## Análise\n",
    "\n",
    "In general, the analysis of your results will include a determination of qualitative and\n",
    "quantitative relationships between variables and an estimation of numerical accuracy.\n",
    "Interpretation. Summarize your results and explain them in simple physical terms whenever\n",
    "possible. Specific questions that were raised in the assignment should be addressed here.\n",
    "Also give suggestions for future work or possible extensions. It is not necessary to answer\n",
    "every part of each question in the text."
   ]
  },
  {
   "cell_type": "markdown",
   "metadata": {},
   "source": [
    "## Análise crítica\n",
    "\n",
    "Summarize the important physical concepts for which you gained a better understanding\n",
    "and discuss the numerical or computer techniques you learned. Make specific\n",
    "comments on the assignment and suggestions for improvements or alternatives.\n",
    "\n",
    "Comentando pontos positivos, negativos, dificuldades e limitações dos experimentos e dos modelos matematicos\n",
    "implementados. Os modelos matematicos sao uma boa  simulacao da realidade? Por que?"
   ]
  },
  {
   "cell_type": "markdown",
   "metadata": {},
   "source": [
    "## Log\n",
    "\n",
    "Keep a log of the time spent on each assignment and include it with your report"
   ]
  },
  {
   "cell_type": "markdown",
   "metadata": {},
   "source": [
    "## Contribuição dos autores\n",
    "\n",
    "Todos os autores operaram cronômetros em ambos os experimentos. Bruna, Eduardo e Guilherme também operaram a câmera e realizaram a travessia durante o experimento de Movimento Uniforme. Além disso, contamos com a contribuição voluntária de Gabriel Russo, Germano Hüning Neuenfeld, Leonardo Rezende e Victor Raposo para operar os cronômetros no experimento de Movimento Uniforme.\n",
    "\n",
    "Todos os autores escreveram e revisaram este relatório. Todos os autores leram e aprovaram a sua versão final."
   ]
  },
  {
   "cell_type": "markdown",
   "metadata": {},
   "source": [
    "## Vídeo dos experimentos\n",
    "\n",
    "[Link para o vídeo no YouTube](http://youtube.com)"
   ]
  }
 ],
 "metadata": {
  "kernelspec": {
   "display_name": "Python 3",
   "language": "python",
   "name": "python3"
  },
  "language_info": {
   "codemirror_mode": {
    "name": "ipython",
    "version": 3
   },
   "file_extension": ".py",
   "mimetype": "text/x-python",
   "name": "python",
   "nbconvert_exporter": "python",
   "pygments_lexer": "ipython3",
   "version": "3.5.2"
  }
 },
 "nbformat": 4,
 "nbformat_minor": 2
}
