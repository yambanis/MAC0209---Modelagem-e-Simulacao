{
 "cells": [
  {
   "cell_type": "markdown",
   "metadata": {},
   "source": [
    "# EP2 - MAC0209\n",
    "\n",
    "* Bruna Thalenberg - 8569211\n",
    "* Eduardo Freire - 10262627\n",
    "* Erica Cope - 9299091\n",
    "* Guilherme Yambanis - 8041265\n",
    "* Nathan Benedetto Proença - 8941276\n",
    "\n",
    "(Grupo Modeletes)"
   ]
  },
  {
   "cell_type": "markdown",
   "metadata": {},
   "source": [
    "## Introdução\n",
    "\n",
    "O presente estudo tem o objetivo de estudar o comportamento dos movimentos bidimensionais por meio de experimentos e simulações algorítmicas e da comparação de dados experimentais e simulados. Os movimentos escolhidos pelo grupo foram o Movimento Circular Uniforme (MCU), Movimento Uniformemente Variado (MUV) na forma de rolamento em plano inclinado, e Movimento Oscilatório, especificamente o movimento pendular. Foram utilizados os modelos clássicos que descrevem tais movimentos para as simulações, por meio de resolução analítica das equações."
   ]
  },
  {
   "cell_type": "code",
   "execution_count": 1,
   "metadata": {},
   "outputs": [],
   "source": [
    "import csv\n",
    "import pandas\n",
    "import math\n",
    "import numpy as np\n",
    "from matplotlib import pyplot as plt\n",
    "import seaborn as sns\n",
    "\n",
    "%matplotlib inline"
   ]
  },
  {
   "cell_type": "markdown",
   "metadata": {},
   "source": [
    "## Métodos\n",
    "\n",
    "### Experimentos\n",
    "#### Movimento Circular Uniforme\n",
    "\n",
    "#### Movimento Uniformemente Variado (Descida em Plano Inclinado)\n",
    "Para o experimento de Movimento Uniformemente Variado, utilizou-se de uma rua inclinada, com inclinação aproximada de $3^o$ e um skate, garantindo a aceleração constante da gravidade. As travessias foram realizadas com o operador do celular sentado no skate. \n",
    "\n",
    "O trajeto foi de 20 metros e com o auxílio de fita métrica, foram realizadas marcações a cada 5 metros. Foram realizadas cinco travessias, com cronômetros alternados nas posições 5, 10, 15 e 20 metros. \n",
    "\n",
    "O tempo de travessia foi medido com o uso de cronômetros de aparelhos celulares e anotado manualmente em uma prancheta, para a posterior transposição para arquivos _csv_. Foi utilizado o acelerômetro de um celular Android, por meio do aplicativo _Physics Toolbox_, para obter dados adicionais a respeito da travessia. Esse celular foi operado pela pessoa que atravessava, com cinco segundos de período de estabilização inicial e final. \n",
    "\n",
    "#### Movimento Oscilatório (Pêndulo)\n",
    "\n",
    "Utilizamos um pêndulo de madeira de 0.65 metros de raio, fixado em uma lixeira de concreto por meio de uma rosca de metal. Fixamos a altura inicial em 0.93 metros do solo, e verificamos que a altura mínima durante o movimento era de 0.3 metros.\n",
    "\n",
    "Foi utilizado o acelerômetro de um celular Android, por meio do aplicativo _Physics Toolbox_, para obter os dados a respeito da travessia. Esse celular foi fixado por meio de elásticos na extremidade do pêndulo, com cinco segundos de período de estabilização inicial e final. Após certo período de oscilação, quando o movimento atingia amplitude muito baixa, a oscilação era interrompida e o celular era retornado para a posição inicial para os cinco segundos de estabilização.\n",
    "\n",
    "\n",
    "### Simulações\n",
    "\n",
    "(Isso é do EP1, adaptar). A partir dos dados obtidos, foi calculada a velocidade média de cada travessia, a partir da soma do tempo total de cada iteração, dividida pela metragem total. Quando havia dois cronômetros pareados na posição $ d = 30 m$, foi utilizada a média entre ambos. A partir da velocidade média, foi calculado analiticamente o tempo decorrido do início até cada posição utilizando-se as equações da física newtoniana de cada movimento, respectivamente $ S = S_0 + vt$ e $ S = S_0 + v_0t + \\alpha \\frac{t^2}{2} $. Note que a velocidade inicial do MUV será sempre 0, uma vez que o movimento inicia-se do repouso. A posição inicial será também sempre 0, por convenção."
   ]
  },
  {
   "cell_type": "code",
   "execution_count": null,
   "metadata": {},
   "outputs": [],
   "source": []
  },
  {
   "cell_type": "markdown",
   "metadata": {},
   "source": [
    "## Verificação do programa"
   ]
  },
  {
   "cell_type": "code",
   "execution_count": null,
   "metadata": {},
   "outputs": [],
   "source": []
  },
  {
   "cell_type": "markdown",
   "metadata": {},
   "source": [
    "## Dados\n",
    "\n",
    "### Movimento Circular Uniforme\n",
    "\n",
    "(DO EP1, ADAPTAR) Nos conjuntos de gráficos a seguir, exibimos os resultados das três travessias do movimento retilíneo uniforme, em três iterações cada: as duas primeiras, com cronômetros pareados nas posições 10, 20 e 30, e a terceira, com cronômetros nas posições 5, 10, 15, 20, 25, 30. Os dados experimentais são representados por pequenos círculos nas posições correspondentes às de cada cronômetro. No gráfico de cada travessia, apresentamos, também, na linha tracejada, o comportamento esperado do movimento uniforme, obtido de forma analítica."
   ]
  },
  {
   "cell_type": "code",
   "execution_count": null,
   "metadata": {},
   "outputs": [],
   "source": []
  },
  {
   "cell_type": "markdown",
   "metadata": {},
   "source": [
    "### Movimento Uniformemente Variado\n",
    "\n",
    "(DO EP1, ADAPTAR) Nos conjuntos de gráficos a seguir, exibimos os resultados das três travessias do movimento retilíneo uniforme, em três iterações cada: as duas primeiras, com cronômetros pareados nas posições 10, 20 e 30, e a terceira, com cronômetros nas posições 5, 10, 15, 20, 25, 30. Os dados experimentais são representados por pequenos círculos nas posições correspondentes às de cada cronômetro. No gráfico de cada travessia, apresentamos, também, na linha tracejada, o comportamento esperado do movimento uniforme, obtido de forma analítica."
   ]
  },
  {
   "cell_type": "code",
   "execution_count": null,
   "metadata": {},
   "outputs": [],
   "source": []
  },
  {
   "cell_type": "markdown",
   "metadata": {},
   "source": [
    "### Movimento Oscilatório\n",
    "\n",
    "(DO EP1, ADAPTAR) Nos conjuntos de gráficos a seguir, exibimos os resultados das três travessias do movimento retilíneo uniforme, em três iterações cada: as duas primeiras, com cronômetros pareados nas posições 10, 20 e 30, e a terceira, com cronômetros nas posições 5, 10, 15, 20, 25, 30. Os dados experimentais são representados por pequenos círculos nas posições correspondentes às de cada cronômetro. No gráfico de cada travessia, apresentamos, também, na linha tracejada, o comportamento esperado do movimento uniforme, obtido de forma analítica."
   ]
  },
  {
   "cell_type": "code",
   "execution_count": null,
   "metadata": {},
   "outputs": [],
   "source": []
  },
  {
   "cell_type": "markdown",
   "metadata": {},
   "source": [
    "## Análise\n",
    "\n",
    "(DO EP1, ADAPTAR) Enquanto nos experimentos realizados para o Movimento Uniforme o erro entre a modelagem numérica a partir do modelo físico e os dados experimentais foi satisfatório, com valor absoluto de menos de um segundo, no Movimento Uniformemente Variado ele foi maior, chegando a valores absolutos de cerca de sete segundo"
   ]
  },
  {
   "cell_type": "markdown",
   "metadata": {},
   "source": [
    "## Análise crítica e interpretação\n",
    "\n",
    "### Movimento circular uniforme\n",
    "(DO EP1, ADAPTAR) Ao analisar os dados obtidos com os três experimentos realizados sobre o Movimento Uniforme e comparar com os resultados obtidos a partir das equações da física newtoniana, é possivel observar que o movimento real executado pelos três alunos em muito assemelhou-se ao resultado teórico para o nível de detalhamento desejado.\n",
    "\n",
    "As discrepâncias observadas em alguns pontos, como aos 30 metros da travessia 1.1, podem ser atribuídas a erros experimentais, como o tempo de reação dos alunos operando os cronômetros e desatenção do aluno que fazia a travessia e consequente perda dos ritmos das passadas, entre outros. \n",
    "\n",
    "Entretanto, o erro absoluto nunca fui superior a um segundo, o que, considerando o experimento como um todo, as limitações do metodo e dos aparatos usados, pode ser considerado esperado.\n",
    "\n",
    "No geral, o método adotado, com o uso de cronômetros, de metrônomo e de marcações no chão para cada passada, mostrou-se apropriado para a realização de um movimento uniforme. Reciprocamente, o modelo matemático implementado, que soluciona algoritmicamente a equação $ S = S_0 + vt $ refletiu satisfatoriamente os fenômenos do mundo real na escala desejada.\n",
    "\n",
    "### Movimento uniformemente variado\n",
    "\n",
    "(DO EP1, ADAPTAR) A comparação dos dados dos experimentos de Movimento Uniformemente Variado frente ao modelo teórico, resultado da equação $ S = S_0 + v_0t + \\alpha \\frac{t^2}{2} $, foi menos satisfatória do que a do experimento anterior. Os erros obtidos foram maiores, por vezes superiores a 7 segundos, o que consideramos insatisfatórios.\n",
    "\n",
    "Acreditamos que tal discrepância deva-se à maior dificuldade de realizar esse experimento: nossos planos de fazer uso da rampa da FAU, lisa e de inclinação constante, foram frustrados ao verificar que sua extensão é de 20 metros. O mesmo ocorreu com a rampa do prédio de História e Geografia da FFLCH e da Biblioteca Brasiliana. Assim, foi necessário realizar o experimento em uma rua inclinada mas que, por não ser fruto de um projeto arquitetônico, não possui inclinação constante em toda sua extensão e que, além disso, é coberta de asfalto, apresentando maior atrito para as rodas do skate. Ademais, a aceleração foi dada apenas pela aceleração da gravidade, de forma que nesse caso, a resistência do ar tornou-se mais relevante do que no experimento anterior.\n",
    "\n",
    "### Movimento oscilatório"
   ]
  },
  {
   "cell_type": "markdown",
   "metadata": {},
   "source": [
    "## Crítica\n",
    "\n",
    "(DO EP1, ADAPTAR) Acreditamos que o EP cumpriu o objetivo de familiarização com a simulação e modelagem computacional de fenômenos físicos do mundo real. No entanto, pensamos que uma travessia de 20 metros forneceria resultados melhores, uma vez que é mais fácil encontrar rampas uniformes de tal tamanho no campus, como na FAU e na Biblioteca Brasiliana, enquanto que para cumprir o requisito de 30 metros tivemos que fazer uso de uma rua asfaltada com inclinação não constante. Ademais, consideramos que grupos maiores seriam mais adequados para a realização dos experimentos, uma vez que tivemos que contar com a colaboração de voluntários para seu sucesso."
   ]
  },
  {
   "cell_type": "markdown",
   "metadata": {},
   "source": [
    "## Log\n",
    "\n",
    "Foram gasta aproximadamente uma hora para o planejamento dos experimentos e duas horas para o seu preparo e realização.\n",
    "\n",
    "O relatório, a programação e a análise dos dados tomou cerca de 2 horas e meia, com dois autores atuando em paralelo, e a edição do vídeo, 1 hora."
   ]
  },
  {
   "cell_type": "markdown",
   "metadata": {},
   "source": [
    "## Contribuição dos autores\n",
    "\n",
    "No experimento de Movimento Circular Uniforme, Bruna realizou o movimento com o celular equipado com o Physics Toolbox. Erica garantiu a manutenção do raio uniforme atuando como centro do compasso de barbante, além de realizar a gravação, e Eduardo e Guilherme operaram cronômetros.\n",
    "\n",
    "No experimento de Movimento Uniformemente Variado, Erica realizou a travessia no skate com o celular equipado com o Physics Toolbox. Bruna realizou a filmagem e Eduardo e Guilherme operaram cronômetros.\n",
    "\n",
    "No experimento de Movimento Oscilatório, Bruna, Eduardo, Erica e Guilherme trabalharam em conjunto na fixação do pêndulo na lixeira e do celular no pêndulo e revezaram-se na tarefa de gravação e de liberação do pêndulo.\n",
    "\n",
    "Bruna e +++ redigiu o relatório, Nathan e +++ realizaram as simulações e Erica editou o vídeo.\n",
    "\n",
    "Todos os autores leram e aprovaram a versão final deste relatório."
   ]
  },
  {
   "cell_type": "markdown",
   "metadata": {},
   "source": [
    "## Vídeo dos experimentos\n",
    "\n",
    "[Link para o vídeo no YouTube](https://www.youtube.com/watch?v=ekFRp_ukFtw&feature=youtu.be)"
   ]
  }
 ],
 "metadata": {
  "kernelspec": {
   "display_name": "Python 3",
   "language": "python",
   "name": "python3"
  },
  "language_info": {
   "codemirror_mode": {
    "name": "ipython",
    "version": 3
   },
   "file_extension": ".py",
   "mimetype": "text/x-python",
   "name": "python",
   "nbconvert_exporter": "python",
   "pygments_lexer": "ipython3",
   "version": "3.5.2"
  }
 },
 "nbformat": 4,
 "nbformat_minor": 2
}
